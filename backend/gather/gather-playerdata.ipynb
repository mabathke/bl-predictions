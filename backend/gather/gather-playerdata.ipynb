{
 "cells": [
  {
   "cell_type": "code",
   "execution_count": 1,
   "metadata": {},
   "outputs": [
    {
     "name": "stdout",
     "output_type": "stream",
     "text": [
      "Error fetching main page: https://fbref.com/de/wettbewerbe/20/stats/Bundesliga-Statistiken\n",
      "Found teams:\n"
     ]
    },
    {
     "ename": "",
     "evalue": "",
     "output_type": "error",
     "traceback": [
      "\u001b[1;31mThe Kernel crashed while executing code in the current cell or a previous cell. \n",
      "\u001b[1;31mPlease review the code in the cell(s) to identify a possible cause of the failure. \n",
      "\u001b[1;31mClick <a href='https://aka.ms/vscodeJupyterKernelCrash'>here</a> for more info. \n",
      "\u001b[1;31mView Jupyter <a href='command:jupyter.viewOutput'>log</a> for further details."
     ]
    }
   ],
   "source": [
    "import requests\n",
    "from bs4 import BeautifulSoup\n",
    "import pandas as pd\n",
    "import time\n",
    "import os\n",
    "\n",
    "# Base URL for fbref\n",
    "base_url = \"https://fbref.com\"\n",
    "\n",
    "# Main Bundesliga statistics page (in German)\n",
    "main_url = \"https://fbref.com/de/wettbewerbe/20/stats/Bundesliga-Statistiken\"\n",
    "\n",
    "# Directory to store CSV files\n",
    "output_dir = \"data/bundesliga\"\n",
    "os.makedirs(output_dir, exist_ok=True)\n",
    "\n",
    "# Request the main page\n",
    "response = requests.get(main_url)\n",
    "if response.status_code != 200:\n",
    "    print(f\"Error fetching main page: {main_url}\")\n",
    "    exit()\n",
    "\n",
    "soup = BeautifulSoup(response.content, \"html.parser\")\n",
    "\n",
    "# Find all team links (hrefs starting with /de/mannschaften/ and containing \"Statistiken\")\n",
    "team_links = soup.find_all(\"a\", href=True)\n",
    "teams = {}\n",
    "for link in team_links:\n",
    "    href = link[\"href\"]\n",
    "    if href.startswith(\"/de/mannschaften/\") and \"Statistiken\" in href:\n",
    "        team_name = link.get_text(strip=True)\n",
    "        team_url = base_url + href\n",
    "        teams[team_name] = team_url\n",
    "\n",
    "print(\"Found teams:\")\n",
    "for name, url in teams.items():\n",
    "    print(f\"  {name}: {url}\")\n",
    "\n",
    "# Iterate over each team and scrape the players table\n",
    "for team_name, team_url in teams.items():\n",
    "    print(f\"\\nScraping team: {team_name} from {team_url}\")\n",
    "    resp = requests.get(team_url)\n",
    "    if resp.status_code != 200:\n",
    "        print(f\"Error retrieving {team_url}\")\n",
    "        continue\n",
    "\n",
    "    team_soup = BeautifulSoup(resp.content, \"html.parser\")\n",
    "    \n",
    "    # Find the table containing player data (using id \"stats_misc_20\")\n",
    "    table = team_soup.find(\"table\", id=\"stats_misc_20\")\n",
    "    if not table:\n",
    "        print(f\"No table with id 'stats_misc_20' found for {team_name}\")\n",
    "        continue\n",
    "\n",
    "    # Extract header: sometimes the last <tr> in <thead> holds the actual column names\n",
    "    thead = table.find(\"thead\")\n",
    "    header_rows = thead.find_all(\"tr\")\n",
    "    if header_rows:\n",
    "        headers = [th.get_text(strip=True) for th in header_rows[-1].find_all(\"th\")]\n",
    "    else:\n",
    "        headers = []\n",
    "\n",
    "    # Extract body rows\n",
    "    rows_data = []\n",
    "    tbody = table.find(\"tbody\")\n",
    "    for row in tbody.find_all(\"tr\"):\n",
    "        # Extract text from both header cells (if any) and td cells\n",
    "        row_data = [cell.get_text(strip=True) for cell in row.find_all([\"th\", \"td\"])]\n",
    "        if row_data:\n",
    "            rows_data.append(row_data)\n",
    "\n",
    "    # Create DataFrame and save as CSV\n",
    "    df = pd.DataFrame(rows_data, columns=headers)\n",
    "    # Replace any problematic characters in the team name for the filename\n",
    "    safe_team_name = \"\".join([c if c.isalnum() or c in \" -_\" else \"_\" for c in team_name])\n",
    "    output_path = os.path.join(output_dir, f\"{safe_team_name}.csv\")\n",
    "    df.to_csv(output_path, index=False)\n",
    "    print(f\"Saved {team_name} data to {output_path}\")\n",
    "    \n",
    "    # Pause to be polite to the server\n",
    "    time.sleep(3)\n"
   ]
  }
 ],
 "metadata": {
  "kernelspec": {
   "display_name": "base",
   "language": "python",
   "name": "python3"
  },
  "language_info": {
   "codemirror_mode": {
    "name": "ipython",
    "version": 3
   },
   "file_extension": ".py",
   "mimetype": "text/x-python",
   "name": "python",
   "nbconvert_exporter": "python",
   "pygments_lexer": "ipython3",
   "version": "3.12.4"
  }
 },
 "nbformat": 4,
 "nbformat_minor": 2
}
